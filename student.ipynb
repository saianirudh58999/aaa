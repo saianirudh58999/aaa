{
 "cells": [
  {
   "cell_type": "code",
   "execution_count": 3,
   "metadata": {},
   "outputs": [
    {
     "name": "stdout",
     "output_type": "stream",
     "text": [
      "new student record created\n",
      "{'age': 52, 'id': 3, 'name': 'venkat', 'surname': 'duggi'}\n"
     ]
    }
   ],
   "source": [
    "#this is for create a student record\n",
    "\n",
    "import requests\n",
    "\n",
    "student_data={\n",
    "    'age':52,\n",
    "    'id': '',\n",
    "    'name':'venkat',\n",
    "    'surname':'duggi'\n",
    "}\n",
    "response=requests.post('http://localhost:5000/students',json=student_data)\n",
    "\n",
    "if response.status_code==201:\n",
    "    created_student=response.json()['student']\n",
    "    print('new student record created')\n",
    "    print(created_student)\n",
    "else:\n",
    "    error_message =response.json().get('message','not updated')\n",
    "    print(error_message)"
   ]
  }
 ],
 "metadata": {
  "kernelspec": {
   "display_name": "Python 3",
   "language": "python",
   "name": "python3"
  },
  "language_info": {
   "codemirror_mode": {
    "name": "ipython",
    "version": 3
   },
   "file_extension": ".py",
   "mimetype": "text/x-python",
   "name": "python",
   "nbconvert_exporter": "python",
   "pygments_lexer": "ipython3",
   "version": "3.9.2"
  },
  "orig_nbformat": 4
 },
 "nbformat": 4,
 "nbformat_minor": 2
}
